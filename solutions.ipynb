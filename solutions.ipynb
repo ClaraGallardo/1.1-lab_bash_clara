## Ejercicios

* Imprime en consola `Hello World`.

    echo 'Hello World'

* Crea un directorio nuevo llamado `new_dir`.

    mkdir new_dir

* Elimina ese directorio.

    rm new_dir

* Copia el archivo `sed.txt` dentro de la carpeta lorem a la carpeta lorem-copy. TIP: Puede ser necesario crear la carpeta lorem-copy primero. 

    mkdir lorem-copy
    cd lorem
    copy sed.txt C:\Users\Usuario\ironhack\lab\1.1-lab_bash_clara\lorem-copy

* Muestra el contenido del archivo `sed.txt` dentro de la carpeta lorem. 
    
    cd..
    cd lorem
    cat sed.txt

* Muestra el contenido de los archivos `at.txt` y `lorem.txt` dentro de la carpeta lorem.


* Visualiza las primeras 3 líneas del archivo `sed.txt` dentro de la carpeta lorem-copy 

* Añade `Homo homini lupus.` al final de archivo `sed.txt` dentro de la carpeta lorem-copy. 

* Visualiza las últimas 3 líneas del archivo `sed.txt` dentro de la carpeta lorem-copy. Deberías ver ahora `Homo homini lupus.`. 

* Encuentra al usuario activo en el sistema.

* Encuentra dónde estás en tu sistema de ficheros.

* Lista los archivos que terminan por `.txt` en la carpeta lorem.

* Cuenta el número de líneas que tiene el archivo `sed.txt` dentro de la carpeta lorem. 

* Cuenta el número de **archivos** que empiezan por `lorem` que están en este directorio y en directorios internos.

* Cuenta el número de apariciones del string `et` en `at.txt` dentro de la carpeta lorem. 