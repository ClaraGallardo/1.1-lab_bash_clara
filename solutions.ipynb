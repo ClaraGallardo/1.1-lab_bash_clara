## Ejercicios

* Imprime en consola `Hello World`.

    echo 'Hello World'

* Crea un directorio nuevo llamado `new_dir`.

    mkdir new_dir

* Elimina ese directorio.

    rm new_dir

* Copia el archivo `sed.txt` dentro de la carpeta lorem a la carpeta lorem-copy. TIP: Puede ser necesario crear la carpeta lorem-copy primero. 

    mkdir lorem-copy
    cd lorem
    copy sed.txt C:\Users\Usuario\ironhack\lab\1.1-lab_bash_clara\lorem\lorem-copy

* Muestra el contenido del archivo `sed.txt` dentro de la carpeta lorem. 
    
    cd..
    cd lorem
    cat sed.txt

* Muestra el contenido de los archivos `at.txt` y `lorem.txt` dentro de la carpeta lorem.

    cat at.txt
    cat lorem.txt

* Visualiza las primeras 3 líneas del archivo `sed.txt` dentro de la carpeta lorem-copy 

    cd..
    cd lorem-copy
    Get-Content sed.txt -TotalCount 3


* Añade `Homo homini lupus.` al final de archivo `sed.txt` dentro de la carpeta lorem-copy. 

     echo 'Homo homini lupus.'>>sed.txt

* Visualiza las últimas 3 líneas del archivo `sed.txt` dentro de la carpeta lorem-copy. Deberías ver ahora `Homo homini lupus.`. 

     Get-Content sed.txt | Select-Object -Last 3

* Encuentra al usuario activo en el sistema.

    whoami
    
* Encuentra dónde estás en tu sistema de ficheros.

    pwd

* Lista los archivos que terminan por `.txt` en la carpeta lorem.
    
    cd..
    cd lorem
    get-childitem -path "C:\Users\Usuario\ironhack\lab\1.1-lab_bash_clara\lorem" -file -filter "*.txt"

* Cuenta el número de líneas que tiene el archivo `sed.txt` dentro de la carpeta lorem.

    get-content -path "sed.txt" | measure-object -line

* Cuenta el número de **archivos** que empiezan por `lorem` que están en este directorio y en directorios internos.

    (get-childitem -Path "C:\Users\Usuario\ironhack\lab\1.1-lab_bash_clara\lorem" -file -recurse -Filter "lorem*").Count


* Cuenta el número de apariciones del string `et` en `at.txt` dentro de la carpeta lorem.

    (get-content -path "at.txt" | select-string -pattern "et").Count










